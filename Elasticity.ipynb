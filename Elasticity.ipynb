{
  "nbformat": 4,
  "nbformat_minor": 0,
  "metadata": {
    "colab": {
      "provenance": [],
      "authorship_tag": "ABX9TyNqLdQ/iRq9Io59fCrN7Qqy",
      "include_colab_link": true
    },
    "kernelspec": {
      "name": "python3",
      "display_name": "Python 3"
    },
    "language_info": {
      "name": "python"
    }
  },
  "cells": [
    {
      "cell_type": "markdown",
      "metadata": {
        "id": "view-in-github",
        "colab_type": "text"
      },
      "source": [
        "<a href=\"https://colab.research.google.com/github/DrStephPowers/ECON-in-Python/blob/main/Elasticity.ipynb\" target=\"_parent\"><img src=\"https://colab.research.google.com/assets/colab-badge.svg\" alt=\"Open In Colab\"/></a>"
      ]
    },
    {
      "cell_type": "markdown",
      "source": [
        "## Midpoint Method for Calculating Elasticity"
      ],
      "metadata": {
        "id": "FmwcMAE6QT6G"
      }
    },
    {
      "cell_type": "markdown",
      "source": [
        "$E_d = \\frac{\\% \\Delta Q}{\\% \\Delta P}$"
      ],
      "metadata": {
        "id": "X2kiOW6VSWKD"
      }
    },
    {
      "cell_type": "markdown",
      "source": [
        "$E_d = \\frac{(Q_2-Q_1)}{(Q_2 + Q_1)/2} \\div \\frac{(P_2-P_1)}{(P_2 + P_1)/2}$"
      ],
      "metadata": {
        "id": "7gBDGprAQD_Q"
      }
    },
    {
      "cell_type": "markdown",
      "source": [
        "$E_d > 1$ Elastic"
      ],
      "metadata": {
        "id": "6PXCxKpmQfHi"
      }
    },
    {
      "cell_type": "markdown",
      "source": [
        "$0 < E_d < 1$ Inelastic"
      ],
      "metadata": {
        "id": "OsMW-lUQQpcq"
      }
    },
    {
      "cell_type": "code",
      "source": [
        "import numpy as np"
      ],
      "metadata": {
        "id": "w5p-YXESRnIG"
      },
      "execution_count": 1,
      "outputs": []
    },
    {
      "cell_type": "code",
      "source": [
        "def Elas(Q1, Q2, P1, P2):\n",
        "    Ed = abs(((Q2-Q1)/((Q2+Q1)/2))/((P2-P1)/((P2+P1)/2)))\n",
        "    return Ed"
      ],
      "metadata": {
        "id": "Z7MXkatiQ4u-"
      },
      "execution_count": 13,
      "outputs": []
    },
    {
      "cell_type": "markdown",
      "source": [
        "Q1 = 80,  Q2 = 10,  P1 = 2,  P2 = 10"
      ],
      "metadata": {
        "id": "mcM9pcJJTVA8"
      }
    },
    {
      "cell_type": "code",
      "source": [
        "Elas(80, 10, 2, 10)"
      ],
      "metadata": {
        "colab": {
          "base_uri": "https://localhost:8080/"
        },
        "id": "4S-uLfBLR2LL",
        "outputId": "45ed5eb5-2f7f-4cbb-a7b6-9b710b1028f8"
      },
      "execution_count": 27,
      "outputs": [
        {
          "output_type": "execute_result",
          "data": {
            "text/plain": [
              "1.1666666666666667"
            ]
          },
          "metadata": {},
          "execution_count": 27
        }
      ]
    },
    {
      "cell_type": "markdown",
      "source": [
        "Use the midpoint method to find elasticity for the Demand curve from the previous Supply and Demand example."
      ],
      "metadata": {
        "id": "4EDFHe9vTf--"
      }
    },
    {
      "cell_type": "code",
      "execution_count": 2,
      "metadata": {
        "id": "3OoqPwBcYvcZ"
      },
      "outputs": [],
      "source": [
        "P = (50, 45, 40, 35, 30, 25, 20, 15, 10)"
      ]
    },
    {
      "cell_type": "code",
      "source": [
        "Q_D = (124, 137, 143, 154, 164, 168, 174, 185, 193)"
      ],
      "metadata": {
        "id": "_QY1mNkyPj5E"
      },
      "execution_count": 3,
      "outputs": []
    },
    {
      "cell_type": "code",
      "source": [
        "P[0]"
      ],
      "metadata": {
        "colab": {
          "base_uri": "https://localhost:8080/"
        },
        "id": "ECQfv72HT2d6",
        "outputId": "8f51ce10-cd06-4a0a-a490-1d5517a6fb21"
      },
      "execution_count": 19,
      "outputs": [
        {
          "output_type": "execute_result",
          "data": {
            "text/plain": [
              "50"
            ]
          },
          "metadata": {},
          "execution_count": 19
        }
      ]
    },
    {
      "cell_type": "code",
      "source": [
        "P[-1]"
      ],
      "metadata": {
        "colab": {
          "base_uri": "https://localhost:8080/"
        },
        "id": "PPdDGHRVTxym",
        "outputId": "fe5eb446-e1d4-4b76-e9a2-555cce4b66ba"
      },
      "execution_count": 17,
      "outputs": [
        {
          "output_type": "execute_result",
          "data": {
            "text/plain": [
              "10"
            ]
          },
          "metadata": {},
          "execution_count": 17
        }
      ]
    },
    {
      "cell_type": "code",
      "source": [],
      "metadata": {
        "id": "Sb9hbITCTwbU"
      },
      "execution_count": null,
      "outputs": []
    },
    {
      "cell_type": "markdown",
      "source": [
        "## Total Revenue"
      ],
      "metadata": {
        "id": "6pQ5nGGZTAeV"
      }
    },
    {
      "cell_type": "markdown",
      "source": [
        "$TR = P \\times Q$"
      ],
      "metadata": {
        "id": "P6AcdCH_T6dd"
      }
    },
    {
      "cell_type": "markdown",
      "source": [
        "What happens to TR when price increases and $E_d > 1 $?"
      ],
      "metadata": {
        "id": "UqEgTz6RUDcb"
      }
    },
    {
      "cell_type": "code",
      "source": [
        "def Total_revenue(P, Q):\n",
        "    TR = P * Q\n",
        "    return TR"
      ],
      "metadata": {
        "id": "TVm4-urrUC39"
      },
      "execution_count": 20,
      "outputs": []
    },
    {
      "cell_type": "code",
      "source": [
        "Total_revenue(2, 80)"
      ],
      "metadata": {
        "colab": {
          "base_uri": "https://localhost:8080/"
        },
        "id": "UWf74FizS_TV",
        "outputId": "4d21f97a-62b7-4e5c-b097-aa67fa9853a4"
      },
      "execution_count": 28,
      "outputs": [
        {
          "output_type": "execute_result",
          "data": {
            "text/plain": [
              "160"
            ]
          },
          "metadata": {},
          "execution_count": 28
        }
      ]
    },
    {
      "cell_type": "code",
      "source": [
        "Total_revenue(10, 10)"
      ],
      "metadata": {
        "colab": {
          "base_uri": "https://localhost:8080/"
        },
        "id": "dxxquEoCUjRw",
        "outputId": "57c889a9-d9da-41a6-d470-359558b6bd85"
      },
      "execution_count": 29,
      "outputs": [
        {
          "output_type": "execute_result",
          "data": {
            "text/plain": [
              "100"
            ]
          },
          "metadata": {},
          "execution_count": 29
        }
      ]
    },
    {
      "cell_type": "markdown",
      "source": [
        "What happens to TR when price increases for the Demand curve from the previous Supply and Demand example?"
      ],
      "metadata": {
        "id": "gPrhSQp8VJKJ"
      }
    },
    {
      "cell_type": "code",
      "source": [],
      "metadata": {
        "id": "882XPYv3VXuv"
      },
      "execution_count": null,
      "outputs": []
    }
  ]
}